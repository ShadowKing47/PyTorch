{
 "cells": [
  {
   "cell_type": "code",
   "execution_count": 1,
   "metadata": {},
   "outputs": [],
   "source": [
    "import torch\n",
    "from torch import nn\n",
    "import matplotlib.pyplot as plt\n",
    "from torch import optim"
   ]
  },
  {
   "cell_type": "code",
   "execution_count": 2,
   "metadata": {},
   "outputs": [],
   "source": [
    "weight = 0.7\n",
    "bias = 0.3\n",
    "\n",
    "start = 0\n",
    "end = 10\n",
    "step = 0.2\n",
    "X = torch.arange(start,end,step).unsqueeze(dim = 1)\n",
    "Y = weight*X + bias"
   ]
  },
  {
   "cell_type": "code",
   "execution_count": 3,
   "metadata": {},
   "outputs": [
    {
     "data": {
      "text/plain": [
       "(tensor([[0.3000],\n",
       "         [0.4400],\n",
       "         [0.5800],\n",
       "         [0.7200],\n",
       "         [0.8600],\n",
       "         [1.0000],\n",
       "         [1.1400],\n",
       "         [1.2800],\n",
       "         [1.4200],\n",
       "         [1.5600]]),\n",
       " tensor([[0.0000],\n",
       "         [0.2000],\n",
       "         [0.4000],\n",
       "         [0.6000],\n",
       "         [0.8000],\n",
       "         [1.0000],\n",
       "         [1.2000],\n",
       "         [1.4000],\n",
       "         [1.6000],\n",
       "         [1.8000]]))"
      ]
     },
     "execution_count": 3,
     "metadata": {},
     "output_type": "execute_result"
    }
   ],
   "source": [
    "Y[:10],X[:10]"
   ]
  },
  {
   "cell_type": "code",
   "execution_count": 4,
   "metadata": {},
   "outputs": [
    {
     "data": {
      "text/plain": [
       "(40, 40, 10, 10)"
      ]
     },
     "execution_count": 4,
     "metadata": {},
     "output_type": "execute_result"
    }
   ],
   "source": [
    "train_split = int(0.8*len(X))\n",
    "X_train,y_train = X[:train_split],Y[:train_split]\n",
    "X_test,y_test = X[train_split:],Y[train_split:]\n",
    "\n",
    "len(X_train),len(y_train),len(y_test),len(X_test),\n"
   ]
  },
  {
   "cell_type": "code",
   "execution_count": 19,
   "metadata": {},
   "outputs": [],
   "source": [
    "def plot_prediction(train_data=X_train,\n",
    "                    train_labels=y_train,\n",
    "                    test_data=X_test,\n",
    "                    test_labels=y_test,\n",
    "                    predictions=None):\n",
    "    import matplotlib.pyplot as plt\n",
    "    import numpy as np\n",
    "    \n",
    "    plt.figure(figsize=(10, 7))\n",
    "    plt.scatter(train_data, train_labels, c='b', s=4, label=\"Training data\")\n",
    "    plt.scatter(test_data, test_labels, c='g', s=4, label=\"Testing data\")\n",
    "\n",
    "    if predictions is not None:\n",
    "        # Convert predictions tensor to numpy array\n",
    "        predictions_np = predictions.detach().numpy() if isinstance(predictions, torch.Tensor) else predictions\n",
    "        plt.scatter(test_data, predictions_np, c='r', s=4, label=\"Predictions\")\n",
    "\n",
    "    plt.legend(prop={\"size\": 14})\n",
    "    plt.xlabel(\"Input\")\n",
    "    plt.ylabel(\"Output\")\n",
    "    plt.title(\"Train/Test Data and Predictions\")\n",
    "    plt.show()\n"
   ]
  },
  {
   "cell_type": "code",
   "execution_count": 54,
   "metadata": {},
   "outputs": [
    {
     "data": {
      "image/png": "[encoded data removed]",
      "text/plain": [
       "<Figure size 1000x700 with 1 Axes>"
      ]
     },
     "metadata": {},
     "output_type": "display_data"
    }
   ],
   "source": [
    "plot_prediction()"
   ]
  },
  {
   "cell_type": "code",
   "execution_count": 6,
   "metadata": {},
   "outputs": [],
   "source": [
    "\"\"\"class LinearRegression(nn.Module):\n",
    "    def __init__(self): #inside the constructors initialize the layers and Model parameters\n",
    "        super().__init__()\n",
    "        self.weights = nn.Parameter(torch.randn(1,dtype = torch.float),requires_grad = True)\n",
    "        self.bias = nn.Parameter(torch.randn(1,dtype = torch.float),requires_grad = True)\n",
    "\n",
    "    def forward(self,x:torch.Tensor)-> torch.Tensor:\n",
    "        return self.weights*x + self.bias\"\"\"\n",
    "\n",
    "\n",
    "# Create a Linear Regression model class\n",
    "class LinearRegressionModel(nn.Module): \n",
    "    def __init__(self):\n",
    "        super().__init__() \n",
    "        self.weights = nn.Parameter(torch.randn(1, dtype=torch.float), requires_grad=True)\n",
    "        self.bias = nn.Parameter(torch.randn(1, dtype=torch.float), requires_grad=True)\n",
    "\n",
    "   \n",
    "    def forward(self, x: torch.Tensor) -> torch.Tensor: \n",
    "        return self.weights * x + self.bias        "
   ]
  },
  {
   "cell_type": "code",
   "execution_count": 7,
   "metadata": {},
   "outputs": [
    {
     "data": {
      "text/plain": [
       "'# Set manual seed since nn.Parameter are randomly initialized\\ntorch.manual_seed(42)\\n\\n# Create an instance of the model (this is a subclass of nn.Module that contains nn.Parameter(s))\\nmodel_0 = LinearRegressionModel()\\n\\n# Check the nn.Parameter(s) within the nn.Module subclass we created\\nlist(model_0.parameters())'"
      ]
     },
     "execution_count": 7,
     "metadata": {},
     "output_type": "execute_result"
    }
   ],
   "source": [
    "torch.manual_seed(42)\n",
    "model_0 = LinearRegressionModel()\n",
    "\n",
    "list(model_0.parameters())\n",
    "\n",
    "\"\"\"# Set manual seed since nn.Parameter are randomly initialized\n",
    "torch.manual_seed(42)\n",
    "\n",
    "# Create an instance of the model (this is a subclass of nn.Module that contains nn.Parameter(s))\n",
    "model_0 = LinearRegressionModel()\n",
    "\n",
    "# Check the nn.Parameter(s) within the nn.Module subclass we created\n",
    "list(model_0.parameters())\"\"\"\n"
   ]
  },
  {
   "cell_type": "code",
   "execution_count": 8,
   "metadata": {},
   "outputs": [
    {
     "data": {
      "text/plain": [
       "OrderedDict([('weights', tensor([0.3367])), ('bias', tensor([0.1288]))])"
      ]
     },
     "execution_count": 8,
     "metadata": {},
     "output_type": "execute_result"
    }
   ],
   "source": [
    "model_0.state_dict()"
   ]
  },
  {
   "cell_type": "code",
   "execution_count": 9,
   "metadata": {},
   "outputs": [
    {
     "data": {
      "text/plain": [
       "tensor([[8.0000],\n",
       "        [8.2000],\n",
       "        [8.4000],\n",
       "        [8.6000],\n",
       "        [8.8000],\n",
       "        [9.0000],\n",
       "        [9.2000],\n",
       "        [9.4000],\n",
       "        [9.6000],\n",
       "        [9.8000]])"
      ]
     },
     "execution_count": 9,
     "metadata": {},
     "output_type": "execute_result"
    }
   ],
   "source": [
    "X_test"
   ]
  },
  {
   "cell_type": "code",
   "execution_count": 10,
   "metadata": {},
   "outputs": [],
   "source": [
    "with torch.inference_mode():\n",
    "    y_pred = model_0(X_test)"
   ]
  },
  {
   "cell_type": "code",
   "execution_count": 11,
   "metadata": {},
   "outputs": [],
   "source": [
    "with torch.no_grad():\n",
    "    y_pred1 = model_0(X_test)"
   ]
  },
  {
   "cell_type": "code",
   "execution_count": 12,
   "metadata": {},
   "outputs": [
    {
     "data": {
      "text/plain": [
       "tensor([[0.],\n",
       "        [0.],\n",
       "        [0.],\n",
       "        [0.],\n",
       "        [0.],\n",
       "        [0.],\n",
       "        [0.],\n",
       "        [0.],\n",
       "        [0.],\n",
       "        [0.]])"
      ]
     },
     "execution_count": 12,
     "metadata": {},
     "output_type": "execute_result"
    }
   ],
   "source": [
    "abs(y_pred - y_pred1)"
   ]
  },
  {
   "cell_type": "code",
   "execution_count": 13,
   "metadata": {},
   "outputs": [],
   "source": [
    "loss_fn = nn.L1Loss()\n",
    "optimizer = torch.optim.SGD(params=model_0.parameters(),lr = 0.01)"
   ]
  },
  {
   "cell_type": "code",
   "execution_count": 26,
   "metadata": {},
   "outputs": [
    {
     "name": "stdout",
     "output_type": "stream",
     "text": [
      "Epoch: 0 | Test Loss: 0.014234161004424095\n",
      "OrderedDict([('weights', tensor([0.6995])), ('bias', tensor([0.2903]))])\n",
      "Epoch: 1 | Test Loss: 0.3428657650947571\n",
      "OrderedDict([('weights', tensor([0.7385])), ('bias', tensor([0.3003]))])\n",
      "Epoch: 2 | Test Loss: 0.014234161004424095\n",
      "OrderedDict([('weights', tensor([0.6995])), ('bias', tensor([0.2903]))])\n",
      "Epoch: 3 | Test Loss: 0.3428657650947571\n",
      "OrderedDict([('weights', tensor([0.7385])), ('bias', tensor([0.3003]))])\n",
      "Epoch: 4 | Test Loss: 0.014234161004424095\n",
      "OrderedDict([('weights', tensor([0.6995])), ('bias', tensor([0.2903]))])\n",
      "Epoch: 5 | Test Loss: 0.3428657650947571\n",
      "OrderedDict([('weights', tensor([0.7385])), ('bias', tensor([0.3003]))])\n",
      "Epoch: 6 | Test Loss: 0.014234161004424095\n",
      "OrderedDict([('weights', tensor([0.6995])), ('bias', tensor([0.2903]))])\n",
      "Epoch: 7 | Test Loss: 0.3428657650947571\n",
      "OrderedDict([('weights', tensor([0.7385])), ('bias', tensor([0.3003]))])\n",
      "Epoch: 8 | Test Loss: 0.014234161004424095\n",
      "OrderedDict([('weights', tensor([0.6995])), ('bias', tensor([0.2903]))])\n",
      "Epoch: 9 | Test Loss: 0.3428657650947571\n",
      "OrderedDict([('weights', tensor([0.7385])), ('bias', tensor([0.3003]))])\n",
      "Epoch: 10 | Test Loss: 0.014234161004424095\n",
      "OrderedDict([('weights', tensor([0.6995])), ('bias', tensor([0.2903]))])\n",
      "Epoch: 11 | Test Loss: 0.3428657650947571\n",
      "OrderedDict([('weights', tensor([0.7385])), ('bias', tensor([0.3003]))])\n",
      "Epoch: 12 | Test Loss: 0.014234161004424095\n",
      "OrderedDict([('weights', tensor([0.6995])), ('bias', tensor([0.2903]))])\n",
      "Epoch: 13 | Test Loss: 0.3428657650947571\n",
      "OrderedDict([('weights', tensor([0.7385])), ('bias', tensor([0.3003]))])\n",
      "Epoch: 14 | Test Loss: 0.014234161004424095\n",
      "OrderedDict([('weights', tensor([0.6995])), ('bias', tensor([0.2903]))])\n",
      "Epoch: 15 | Test Loss: 0.3428657650947571\n",
      "OrderedDict([('weights', tensor([0.7385])), ('bias', tensor([0.3003]))])\n",
      "Epoch: 16 | Test Loss: 0.014234161004424095\n",
      "OrderedDict([('weights', tensor([0.6995])), ('bias', tensor([0.2903]))])\n",
      "Epoch: 17 | Test Loss: 0.3428657650947571\n",
      "OrderedDict([('weights', tensor([0.7385])), ('bias', tensor([0.3003]))])\n",
      "Epoch: 18 | Test Loss: 0.014234161004424095\n",
      "OrderedDict([('weights', tensor([0.6995])), ('bias', tensor([0.2903]))])\n",
      "Epoch: 19 | Test Loss: 0.3428657650947571\n",
      "OrderedDict([('weights', tensor([0.7385])), ('bias', tensor([0.3003]))])\n",
      "Epoch: 20 | Test Loss: 0.014234161004424095\n",
      "OrderedDict([('weights', tensor([0.6995])), ('bias', tensor([0.2903]))])\n",
      "Epoch: 21 | Test Loss: 0.3428657650947571\n",
      "OrderedDict([('weights', tensor([0.7385])), ('bias', tensor([0.3003]))])\n",
      "Epoch: 22 | Test Loss: 0.014234161004424095\n",
      "OrderedDict([('weights', tensor([0.6995])), ('bias', tensor([0.2903]))])\n",
      "Epoch: 23 | Test Loss: 0.3428657650947571\n",
      "OrderedDict([('weights', tensor([0.7385])), ('bias', tensor([0.3003]))])\n",
      "Epoch: 24 | Test Loss: 0.014234161004424095\n",
      "OrderedDict([('weights', tensor([0.6995])), ('bias', tensor([0.2903]))])\n",
      "Epoch: 25 | Test Loss: 0.3428657650947571\n",
      "OrderedDict([('weights', tensor([0.7385])), ('bias', tensor([0.3003]))])\n",
      "Epoch: 26 | Test Loss: 0.014234161004424095\n",
      "OrderedDict([('weights', tensor([0.6995])), ('bias', tensor([0.2903]))])\n",
      "Epoch: 27 | Test Loss: 0.3428657650947571\n",
      "OrderedDict([('weights', tensor([0.7385])), ('bias', tensor([0.3003]))])\n",
      "Epoch: 28 | Test Loss: 0.014234161004424095\n",
      "OrderedDict([('weights', tensor([0.6995])), ('bias', tensor([0.2903]))])\n",
      "Epoch: 29 | Test Loss: 0.3428657650947571\n",
      "OrderedDict([('weights', tensor([0.7385])), ('bias', tensor([0.3003]))])\n",
      "Epoch: 30 | Test Loss: 0.014234161004424095\n",
      "OrderedDict([('weights', tensor([0.6995])), ('bias', tensor([0.2903]))])\n",
      "Epoch: 31 | Test Loss: 0.3428657650947571\n",
      "OrderedDict([('weights', tensor([0.7385])), ('bias', tensor([0.3003]))])\n",
      "Epoch: 32 | Test Loss: 0.014234161004424095\n",
      "OrderedDict([('weights', tensor([0.6995])), ('bias', tensor([0.2903]))])\n",
      "Epoch: 33 | Test Loss: 0.3428657650947571\n",
      "OrderedDict([('weights', tensor([0.7385])), ('bias', tensor([0.3003]))])\n",
      "Epoch: 34 | Test Loss: 0.014234161004424095\n",
      "OrderedDict([('weights', tensor([0.6995])), ('bias', tensor([0.2903]))])\n",
      "Epoch: 35 | Test Loss: 0.3428657650947571\n",
      "OrderedDict([('weights', tensor([0.7385])), ('bias', tensor([0.3003]))])\n",
      "Epoch: 36 | Test Loss: 0.014234161004424095\n",
      "OrderedDict([('weights', tensor([0.6995])), ('bias', tensor([0.2903]))])\n",
      "Epoch: 37 | Test Loss: 0.3428657650947571\n",
      "OrderedDict([('weights', tensor([0.7385])), ('bias', tensor([0.3003]))])\n",
      "Epoch: 38 | Test Loss: 0.014234161004424095\n",
      "OrderedDict([('weights', tensor([0.6995])), ('bias', tensor([0.2903]))])\n",
      "Epoch: 39 | Test Loss: 0.3428657650947571\n",
      "OrderedDict([('weights', tensor([0.7385])), ('bias', tensor([0.3003]))])\n",
      "Epoch: 40 | Test Loss: 0.014234161004424095\n",
      "OrderedDict([('weights', tensor([0.6995])), ('bias', tensor([0.2903]))])\n",
      "Epoch: 41 | Test Loss: 0.3428657650947571\n",
      "OrderedDict([('weights', tensor([0.7385])), ('bias', tensor([0.3003]))])\n",
      "Epoch: 42 | Test Loss: 0.014234161004424095\n",
      "OrderedDict([('weights', tensor([0.6995])), ('bias', tensor([0.2903]))])\n",
      "Epoch: 43 | Test Loss: 0.3428657650947571\n",
      "OrderedDict([('weights', tensor([0.7385])), ('bias', tensor([0.3003]))])\n",
      "Epoch: 44 | Test Loss: 0.014234161004424095\n",
      "OrderedDict([('weights', tensor([0.6995])), ('bias', tensor([0.2903]))])\n",
      "Epoch: 45 | Test Loss: 0.3428657650947571\n",
      "OrderedDict([('weights', tensor([0.7385])), ('bias', tensor([0.3003]))])\n",
      "Epoch: 46 | Test Loss: 0.014234161004424095\n",
      "OrderedDict([('weights', tensor([0.6995])), ('bias', tensor([0.2903]))])\n",
      "Epoch: 47 | Test Loss: 0.3428657650947571\n",
      "OrderedDict([('weights', tensor([0.7385])), ('bias', tensor([0.3003]))])\n",
      "Epoch: 48 | Test Loss: 0.014234161004424095\n",
      "OrderedDict([('weights', tensor([0.6995])), ('bias', tensor([0.2903]))])\n",
      "Epoch: 49 | Test Loss: 0.3428657650947571\n",
      "OrderedDict([('weights', tensor([0.7385])), ('bias', tensor([0.3003]))])\n",
      "Epoch: 50 | Test Loss: 0.014234161004424095\n",
      "OrderedDict([('weights', tensor([0.6995])), ('bias', tensor([0.2903]))])\n",
      "Epoch: 51 | Test Loss: 0.3428657650947571\n",
      "OrderedDict([('weights', tensor([0.7385])), ('bias', tensor([0.3003]))])\n",
      "Epoch: 52 | Test Loss: 0.014234161004424095\n",
      "OrderedDict([('weights', tensor([0.6995])), ('bias', tensor([0.2903]))])\n",
      "Epoch: 53 | Test Loss: 0.3428657650947571\n",
      "OrderedDict([('weights', tensor([0.7385])), ('bias', tensor([0.3003]))])\n",
      "Epoch: 54 | Test Loss: 0.014234161004424095\n",
      "OrderedDict([('weights', tensor([0.6995])), ('bias', tensor([0.2903]))])\n",
      "Epoch: 55 | Test Loss: 0.3428657650947571\n",
      "OrderedDict([('weights', tensor([0.7385])), ('bias', tensor([0.3003]))])\n",
      "Epoch: 56 | Test Loss: 0.014234161004424095\n",
      "OrderedDict([('weights', tensor([0.6995])), ('bias', tensor([0.2903]))])\n",
      "Epoch: 57 | Test Loss: 0.3428657650947571\n",
      "OrderedDict([('weights', tensor([0.7385])), ('bias', tensor([0.3003]))])\n",
      "Epoch: 58 | Test Loss: 0.014234161004424095\n",
      "OrderedDict([('weights', tensor([0.6995])), ('bias', tensor([0.2903]))])\n",
      "Epoch: 59 | Test Loss: 0.3428657650947571\n",
      "OrderedDict([('weights', tensor([0.7385])), ('bias', tensor([0.3003]))])\n"
     ]
    }
   ],
   "source": [
    "epochs = 60\n",
    "\n",
    "for epoch in range(epochs):\n",
    "    \n",
    "    model_0.train()\n",
    "\n",
    "    # 1. Forward Pass\n",
    "    y_pred = model_0(X_train)\n",
    "\n",
    "    # 2. Calculate Loss \n",
    "    loss = loss_fn(y_pred, y_train)\n",
    "    #print(f\"Loss: {loss}\")\n",
    "\n",
    "    # 3. Optimizer zero grad\n",
    "    optimizer.zero_grad()\n",
    "\n",
    "    # 4. Backpropagation\n",
    "    loss.backward()\n",
    "\n",
    "    # 5. Step the optimizer\n",
    "    optimizer.step()\n",
    "\n",
    "    model_0.eval()\n",
    "    #Testing Loop\n",
    "    with torch.inference_mode():\n",
    "        test_pred = model_0(X_test)\n",
    "        test_loss = loss_fn(test_pred, y_test)\n",
    "\n",
    "    print(f\"Epoch: {epoch} | Test Loss: {test_loss}\") \n",
    "    print(model_0.state_dict())\n"
   ]
  },
  {
   "cell_type": "code",
   "execution_count": 27,
   "metadata": {},
   "outputs": [
    {
     "data": {
      "text/plain": [
       "OrderedDict([('weights', tensor([0.7385])), ('bias', tensor([0.3003]))])"
      ]
     },
     "execution_count": 27,
     "metadata": {},
     "output_type": "execute_result"
    }
   ],
   "source": [
    "model_0.state_dict()\n"
   ]
  },
  {
   "cell_type": "code",
   "execution_count": 16,
   "metadata": {},
   "outputs": [],
   "source": [
    "with torch.inference_mode():\n",
    "    y_pred_new = model_0(X_test)\n",
    "    "
   ]
  },
  {
   "cell_type": "code",
   "execution_count": 17,
   "metadata": {},
   "outputs": [
    {
     "data": {
      "text/plain": [
       "tensor([[6.1948],\n",
       "        [6.3425],\n",
       "        [6.4901],\n",
       "        [6.6377],\n",
       "        [6.7854],\n",
       "        [6.9330],\n",
       "        [7.0807],\n",
       "        [7.2283],\n",
       "        [7.3759],\n",
       "        [7.5236]])"
      ]
     },
     "execution_count": 17,
     "metadata": {},
     "output_type": "execute_result"
    }
   ],
   "source": [
    "y_pred_new"
   ]
  },
  {
   "cell_type": "code",
   "execution_count": 28,
   "metadata": {},
   "outputs": [
    {
     "data": {
      "image/png": "[encoded data removed]",
      "text/plain": [
       "<Figure size 1000x700 with 1 Axes>"
      ]
     },
     "metadata": {},
     "output_type": "display_data"
    }
   ],
   "source": [
    "plot_prediction(predictions=y_pred_new)"
   ]
  },
  {
   "cell_type": "code",
   "execution_count": 21,
   "metadata": {},
   "outputs": [],
   "source": [
    "with torch.no_grad():\n",
    "    list(model_0.parameters())"
   ]
  },
  {
   "cell_type": "code",
   "execution_count": 30,
   "metadata": {},
   "outputs": [
    {
     "data": {
      "text/plain": [
       "\"There are 3 main methods for saving and Loading Model in pytorch\\n1.torch.save() - Save a pytorch object in Python Pickle format\\n2.torch.load() - load a saved pytorch object\\n3.torch.nn.Module.load_state_dict() - load Model's saved state\""
      ]
     },
     "execution_count": 30,
     "metadata": {},
     "output_type": "execute_result"
    }
   ],
   "source": [
    "#Saving a Model\n",
    "\"\"\"There are 3 main methods for saving and Loading Model in pytorch\n",
    "1.torch.save() - Save a pytorch object in Python Pickle format\n",
    "2.torch.load() - load a saved pytorch object\n",
    "3.torch.nn.Module.load_state_dict() - load Model's saved state\"\"\""
   ]
  }
 ],
 "metadata": {
  "kernelspec": {
   "display_name": "base",
   "language": "python",
   "name": "python3"
  },
  "language_info": {
   "codemirror_mode": {
    "name": "ipython",
    "version": 3
   },
   "file_extension": ".py",
   "mimetype": "text/x-python",
   "name": "python",
   "nbconvert_exporter": "python",
   "pygments_lexer": "ipython3",
   "version": "3.11.7"
  }
 },
 "nbformat": 4,
 "nbformat_minor": 2
}
