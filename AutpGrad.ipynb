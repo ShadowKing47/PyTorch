{
 "cells": [
  {
   "cell_type": "code",
   "execution_count": 1,
   "metadata": {},
   "outputs": [],
   "source": [
    "import torch\n",
    "x = torch.tensor(2.0, requires_grad = True)"
   ]
  },
  {
   "cell_type": "code",
   "execution_count": 2,
   "metadata": {},
   "outputs": [],
   "source": [
    "y = x * 3 + x ** x\n",
    "z = 2 * y + 1"
   ]
  },
  {
   "cell_type": "code",
   "execution_count": 3,
   "metadata": {},
   "outputs": [],
   "source": [
    "z.backward()"
   ]
  },
  {
   "cell_type": "code",
   "execution_count": 4,
   "metadata": {},
   "outputs": [
    {
     "name": "stdout",
     "output_type": "stream",
     "text": [
      "tensor(14.)\n"
     ]
    }
   ],
   "source": [
    "print(x.grad)"
   ]
  },
  {
   "cell_type": "code",
   "execution_count": 5,
   "metadata": {},
   "outputs": [],
   "source": [
    "with torch.no_grad():\n",
    "    y = x*12"
   ]
  },
  {
   "cell_type": "code",
   "execution_count": 1,
   "metadata": {},
   "outputs": [
    {
     "name": "stdout",
     "output_type": "stream",
     "text": [
      "tensor([[2., 3.],\n",
      "        [4., 5.]], requires_grad=True)\n"
     ]
    }
   ],
   "source": [
    "import torch\n",
    "\n",
    "# Create a 2D tensor with requires_grad=True\n",
    "X = torch.tensor([[2.0, 3.0], [4.0, 5.0]], requires_grad=True)\n",
    "print(X)"
   ]
  },
  {
   "cell_type": "code",
   "execution_count": 2,
   "metadata": {},
   "outputs": [
    {
     "name": "stdout",
     "output_type": "stream",
     "text": [
      "tensor([[ 4.,  9.],\n",
      "        [16., 25.]], grad_fn=<PowBackward0>)\n"
     ]
    }
   ],
   "source": [
    "# Define a function (for example, sum of squares of elements in X)\n",
    "Y = X**2\n",
    "print(Y)"
   ]
  },
  {
   "cell_type": "code",
   "execution_count": 3,
   "metadata": {},
   "outputs": [
    {
     "name": "stdout",
     "output_type": "stream",
     "text": [
      "tensor(54., grad_fn=<SumBackward0>)\n"
     ]
    }
   ],
   "source": [
    "# Compute the sum of all elements in Y (just for simplicity)\n",
    "Z = Y.sum()\n",
    "print(Z)"
   ]
  },
  {
   "cell_type": "code",
   "execution_count": 4,
   "metadata": {},
   "outputs": [
    {
     "name": "stdout",
     "output_type": "stream",
     "text": [
      "Gradient of X:\n",
      "tensor([[ 4.,  6.],\n",
      "        [ 8., 10.]])\n"
     ]
    }
   ],
   "source": [
    "# Compute the gradients by calling backward\n",
    "Z.backward()\n",
    "\n",
    "# Print the gradient of X\n",
    "print(\"Gradient of X:\")\n",
    "print(X.grad)"
   ]
  },
  {
   "cell_type": "code",
   "execution_count": 5,
   "metadata": {},
   "outputs": [],
   "source": [
    "X = torch.tensor([[2.0,3.0],[43.0,89.12]],requires_grad = True)\n",
    "Y = X**2 + 3*X\n",
    "Z = 2*Y\n",
    "W = Z**3 + 3*Z"
   ]
  },
  {
   "cell_type": "code",
   "execution_count": 6,
   "metadata": {},
   "outputs": [
    {
     "name": "stdout",
     "output_type": "stream",
     "text": [
      "tensor(4.4886e+12, grad_fn=<SumBackward0>)\n"
     ]
    }
   ],
   "source": [
    "out = W.sum()\n",
    "print(out)"
   ]
  },
  {
   "cell_type": "code",
   "execution_count": 7,
   "metadata": {},
   "outputs": [
    {
     "name": "stdout",
     "output_type": "stream",
     "text": [
      "tensor([[1.6842e+04, 7.0038e+04],\n",
      "        [8.3571e+09, 2.9317e+11]])\n"
     ]
    }
   ],
   "source": [
    "out.backward()\n",
    "print(X.grad)"
   ]
  },
  {
   "cell_type": "code",
   "execution_count": 10,
   "metadata": {},
   "outputs": [
    {
     "data": {
      "text/plain": [
       "'The above will throw and error as Gradient in PyTorch is calculated using Scalers'"
      ]
     },
     "execution_count": 10,
     "metadata": {},
     "output_type": "execute_result"
    }
   ],
   "source": [
    "\"\"\"\n",
    "W.backward()\n",
    "print(X.grad)\n",
    "\"\"\"\n",
    "\"The above will throw and error as Gradient in PyTorch is calculated using Scalers\""
   ]
  },
  {
   "cell_type": "code",
   "execution_count": 18,
   "metadata": {},
   "outputs": [
    {
     "name": "stdout",
     "output_type": "stream",
     "text": [
      "Gradient before Zero_grad tensor([4.0000, 6.6800])\n"
     ]
    }
   ],
   "source": [
    "\"\"\"Use of Optimizer.zero_grad()\"\"\"\n",
    "\n",
    "from torch.optim import SGD\n",
    "\n",
    "X = torch.tensor([2.0,3.34], requires_grad=True)\n",
    "optimizer = SGD([X],lr = 0.1)\n",
    "\n",
    "y = (X**2).sum()\n",
    "\n",
    "y.backward()\n",
    "\n",
    "print(\"Gradient before Zero_grad\",X.grad)\n"
   ]
  },
  {
   "cell_type": "code",
   "execution_count": 17,
   "metadata": {},
   "outputs": [
    {
     "name": "stdout",
     "output_type": "stream",
     "text": [
      "Gradient after zero_grad None\n"
     ]
    }
   ],
   "source": [
    "#optimizer.step() #update all parameters\n",
    "optimizer.zero_grad()\n",
    "print(\"Gradient after zero_grad\",X.grad)"
   ]
  },
  {
   "cell_type": "code",
   "execution_count": 24,
   "metadata": {},
   "outputs": [
    {
     "name": "stdout",
     "output_type": "stream",
     "text": [
      "tensor([ 12.8129, 111.2846], grad_fn=<PowBackward0>) tensor([ 12.8129, 111.2846])\n"
     ]
    }
   ],
   "source": [
    "\"\"\"Use of detach\"\"\"\n",
    "\n",
    "X = torch.tensor([2.34,4.81],requires_grad=True)\n",
    "y = X**3\n",
    "z = y.detach()\n",
    "\n",
    "print(y,z)"
   ]
  },
  {
   "cell_type": "code",
   "execution_count": 26,
   "metadata": {},
   "outputs": [
    {
     "name": "stdout",
     "output_type": "stream",
     "text": [
      "tensor([ 17.8129, 116.2846])\n"
     ]
    }
   ],
   "source": [
    "w = z + 5\n",
    "print(w)"
   ]
  },
  {
   "cell_type": "code",
   "execution_count": 29,
   "metadata": {},
   "outputs": [
    {
     "name": "stdout",
     "output_type": "stream",
     "text": [
      "Requires grad for x: True\n",
      "Requires grad for y: True\n",
      "Requires grad for z: False\n",
      "Requires grad for w: False\n"
     ]
    }
   ],
   "source": [
    "print(\"Requires grad for x:\",X.requires_grad)\n",
    "print(\"Requires grad for y:\",y.requires_grad)\n",
    "print(\"Requires grad for z:\",z.requires_grad)\n",
    "print(\"Requires grad for w:\",w.requires_grad)"
   ]
  },
  {
   "cell_type": "code",
   "execution_count": 37,
   "metadata": {},
   "outputs": [
    {
     "name": "stdout",
     "output_type": "stream",
     "text": [
      "tensor([27.0000, 69.9345], grad_fn=<PowBackward0>)\n"
     ]
    }
   ],
   "source": [
    "\"\"\"Use of retain_graph\"\"\"\n",
    "\n",
    "x = torch.tensor([3.0,4.12],requires_grad = True)\n",
    "y = x**3\n",
    "\n",
    "print(y)"
   ]
  },
  {
   "cell_type": "code",
   "execution_count": 40,
   "metadata": {},
   "outputs": [
    {
     "name": "stdout",
     "output_type": "stream",
     "text": [
      "Gradient dy/dx tensor([ 81.0000, 152.7696])\n"
     ]
    }
   ],
   "source": [
    "z = y.sum()\n",
    "z.backward(retain_graph=True)\n",
    "print(\"Gradient dy/dx\",x.grad)"
   ]
  },
  {
   "cell_type": "code",
   "execution_count": 41,
   "metadata": {},
   "outputs": [
    {
     "name": "stdout",
     "output_type": "stream",
     "text": [
      "second derivative d^2y/dx2 tensor([27.0000, 50.9232])\n"
     ]
    }
   ],
   "source": [
    "x.grad.zero_() #sets the previously calculated gradients to zero\n",
    "z.backward()\n",
    "print(\"second derivative d^2y/dx2\",x.grad)"
   ]
  },
  {
   "cell_type": "code",
   "execution_count": 42,
   "metadata": {},
   "outputs": [
    {
     "name": "stdout",
     "output_type": "stream",
     "text": [
      "tensor([[1.6607e+01, 2.1424e+01, 3.2659e+05],\n",
      "        [1.1441e+04, 7.5305e+05, 3.6792e+05]], grad_fn=<SubBackward0>)\n"
     ]
    }
   ],
   "source": [
    "\"\"\"Exercise Question\"\"\"\n",
    "x = torch.tensor([[2.13,2.34,68.21],[21.9,90.321,71.0]],requires_grad=True)\n",
    "y = x**3 + 2*x**2 - x\n",
    "print(y)"
   ]
  },
  {
   "cell_type": "code",
   "execution_count": 46,
   "metadata": {},
   "outputs": [
    {
     "name": "stdout",
     "output_type": "stream",
     "text": [
      "tensor(1459055.5000, grad_fn=<AddBackward0>)\n"
     ]
    }
   ],
   "source": [
    "z = y.sum() + 10\n",
    "print(z)"
   ]
  },
  {
   "cell_type": "code",
   "execution_count": 47,
   "metadata": {},
   "outputs": [
    {
     "name": "stdout",
     "output_type": "stream",
     "text": [
      "Gradient dy/dx tensor([[6.3392e+01, 7.4360e+01, 4.2689e+04],\n",
      "        [4.5763e+03, 7.4502e+04, 4.6218e+04]])\n"
     ]
    }
   ],
   "source": [
    "z.backward(retain_graph=True)\n",
    "print(\"Gradient dy/dx\",x.grad)"
   ]
  },
  {
   "cell_type": "code",
   "execution_count": null,
   "metadata": {},
   "outputs": [],
   "source": []
  }
 ],
 "metadata": {
  "kernelspec": {
   "display_name": "base",
   "language": "python",
   "name": "python3"
  },
  "language_info": {
   "codemirror_mode": {
    "name": "ipython",
    "version": 3
   },
   "file_extension": ".py",
   "mimetype": "text/x-python",
   "name": "python",
   "nbconvert_exporter": "python",
   "pygments_lexer": "ipython3",
   "version": "3.11.7"
  }
 },
 "nbformat": 4,
 "nbformat_minor": 2
}
