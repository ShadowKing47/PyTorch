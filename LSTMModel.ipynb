{
 "cells": [
  {
   "cell_type": "code",
   "execution_count": 1,
   "metadata": {},
   "outputs": [],
   "source": [
    "import torch\n",
    "import torch.nn as nn\n",
    "import torch.optim as optim\n",
    "from torch.utils.data import DataLoader, TensorDataset"
   ]
  },
  {
   "cell_type": "code",
   "execution_count": 2,
   "metadata": {},
   "outputs": [],
   "source": [
    "class LSTMModel(nn.Module):\n",
    "    def __init__(self, input_size, hidden_size, output_size, num_layers=1):\n",
    "        super(LSTMModel, self).__init__()\n",
    "        self.hidden_size = hidden_size\n",
    "        self.num_layers = num_layers\n",
    "\n",
    "        self.lstm = nn.LSTM(input_size, hidden_size, num_layers, batch_first=True)\n",
    "        self.fc = nn.Linear(hidden_size, output_size)\n",
    "\n",
    "    def forward(self, x):\n",
    "        h0 = torch.zeros(self.num_layers, x.size(0), self.hidden_size).to(x.device)\n",
    "        c0 = torch.zeros(self.num_layers, x.size(0), self.hidden_size).to(x.device)  # Fixed typo \"self,hidden_size\"\n",
    "\n",
    "        out, _ = self.lstm(x, (h0, c0))\n",
    "        out = self.fc(out[:, -1, :])  \n",
    "        return out"
   ]
  },
  {
   "cell_type": "code",
   "execution_count": 3,
   "metadata": {},
   "outputs": [],
   "source": [
    "def train_lstm_model(model, X_train, y_train, epochs=50, batch_size=32, learning_rate=0.001):\n",
    "    # Convert data to PyTorch tensors\n",
    "    X_train_tensor = torch.FloatTensor(X_train)\n",
    "    y_train_tensor = torch.FloatTensor(y_train)\n",
    "    \n",
    "    # Create dataset and dataloader\n",
    "    train_dataset = TensorDataset(X_train_tensor, y_train_tensor)\n",
    "    train_loader = DataLoader(dataset=train_dataset, batch_size=batch_size, shuffle=True)\n",
    "    \n",
    "    # Loss function and optimizer\n",
    "    criterion = nn.MSELoss()  # For regression tasks\n",
    "    optimizer = optim.Adam(model.parameters(), lr=learning_rate)\n",
    "    \n",
    "    # Training loop\n",
    "    model.train()\n",
    "    for epoch in range(epochs):\n",
    "        total_loss = 0\n",
    "        for batch_X, batch_y in train_loader:\n",
    "            # Forward pass\n",
    "            outputs = model(batch_X)\n",
    "            loss = criterion(outputs, batch_y)\n",
    "            \n",
    "            # Backward and optimize\n",
    "            optimizer.zero_grad()\n",
    "            loss.backward()\n",
    "            optimizer.step()\n",
    "            \n",
    "            total_loss += loss.item()\n",
    "        \n",
    "        # Print progress\n",
    "        if (epoch+1) % 10 == 0:\n",
    "            print(f'Epoch [{epoch+1}/{epochs}], Loss: {total_loss/len(train_loader):.4f}')\n",
    "    \n",
    "    print('Training complete')"
   ]
  },
  {
   "cell_type": "code",
   "execution_count": 4,
   "metadata": {},
   "outputs": [
    {
     "name": "stdout",
     "output_type": "stream",
     "text": [
      "Epoch [10/50], Loss: 0.7233\n",
      "Epoch [20/50], Loss: 0.8242\n",
      "Epoch [30/50], Loss: 0.4234\n",
      "Epoch [40/50], Loss: 0.2387\n",
      "Epoch [50/50], Loss: 0.1881\n",
      "Training complete\n",
      "Predictions shape: torch.Size([10, 1])\n"
     ]
    }
   ],
   "source": [
    "\n",
    "if __name__ == \"__main__\":\n",
    "    # Example parameters\n",
    "    input_size = 10  \n",
    "    hidden_size = 64 \n",
    "    output_size = 1  \n",
    "    num_layers = 2   \n",
    "    \n",
    "    \n",
    "    model = LSTMModel(input_size, hidden_size, output_size, num_layers)\n",
    "    \n",
    "    import numpy as np\n",
    "    \n",
    "    X_train = np.random.randn(100, 20, input_size)  \n",
    "    y_train = np.random.randn(100, output_size)    \n",
    "    \n",
    "    # Train the model\n",
    "    train_lstm_model(model, X_train, y_train, epochs=50)\n",
    "    \n",
    "    # Example of making predictions\n",
    "    model.eval()\n",
    "    with torch.no_grad():\n",
    "        X_test = torch.FloatTensor(np.random.randn(10, 20, input_size))\n",
    "        predictions = model(X_test)\n",
    "        print(\"Predictions shape:\", predictions.shape)"
   ]
  },
  {
   "cell_type": "code",
   "execution_count": 5,
   "metadata": {},
   "outputs": [
    {
     "data": {
      "text/plain": [
       "tensor([[-0.5807],\n",
       "        [-1.8266],\n",
       "        [ 0.9912],\n",
       "        [ 1.6866],\n",
       "        [ 0.5765],\n",
       "        [ 0.6393],\n",
       "        [ 0.9084],\n",
       "        [ 0.0583],\n",
       "        [ 0.7286],\n",
       "        [-0.0510]])"
      ]
     },
     "execution_count": 5,
     "metadata": {},
     "output_type": "execute_result"
    }
   ],
   "source": [
    "predictions"
   ]
  },
  {
   "cell_type": "code",
   "execution_count": 1,
   "metadata": {},
   "outputs": [
    {
     "ename": "ModuleNotFoundError",
     "evalue": "No module named 'graphviz'",
     "output_type": "error",
     "traceback": [
      "\u001b[1;31m---------------------------------------------------------------------------\u001b[0m",
      "\u001b[1;31mModuleNotFoundError\u001b[0m                       Traceback (most recent call last)",
      "Cell \u001b[1;32mIn[1], line 1\u001b[0m\n\u001b[1;32m----> 1\u001b[0m \u001b[38;5;28;01mfrom\u001b[39;00m \u001b[38;5;21;01mgraphviz\u001b[39;00m \u001b[38;5;28;01mimport\u001b[39;00m Digraph\n\u001b[0;32m      3\u001b[0m \u001b[38;5;28;01mdef\u001b[39;00m \u001b[38;5;21mcreate_lstm_flowchart\u001b[39m():\n\u001b[0;32m      4\u001b[0m     dot \u001b[38;5;241m=\u001b[39m Digraph(\u001b[38;5;28mformat\u001b[39m\u001b[38;5;241m=\u001b[39m\u001b[38;5;124m'\u001b[39m\u001b[38;5;124mpng\u001b[39m\u001b[38;5;124m'\u001b[39m)\n",
      "\u001b[1;31mModuleNotFoundError\u001b[0m: No module named 'graphviz'"
     ]
    }
   ],
   "source": [
    "from graphviz import Digraph\n",
    "\n",
    "def create_lstm_flowchart():\n",
    "    dot = Digraph(format='png')\n",
    "    \n",
    "    # Nodes\n",
    "    dot.node('x_t', 'Input (x_t)')\n",
    "    dot.node('h_t-1', 'Previous Hidden State (h_{t-1})')\n",
    "    dot.node('C_t-1', 'Previous Cell State (C_{t-1})')\n",
    "    dot.node('f_t', 'Forget Gate\\nσ(W_f[x_t, h_{t-1}] + b_f)')\n",
    "    dot.node('i_t', 'Input Gate\\nσ(W_i[x_t, h_{t-1}] + b_i)')\n",
    "    dot.node('C_tilda', 'Candidate Memory\\ntanh(W_c[x_t, h_{t-1}] + b_c)')\n",
    "    dot.node('C_t', 'Current Cell State\\nf_t * C_{t-1} + i_t * C_tilda')\n",
    "    dot.node('o_t', 'Output Gate\\nσ(W_o[x_t, h_{t-1}] + b_o)')\n",
    "    dot.node('h_t', 'New Hidden State\\no_t * tanh(C_t)')\n",
    "    \n",
    "    # Edges\n",
    "    dot.edges(['x_th_t-1', 'h_t-1f_t', 'h_t-1i_t', 'h_t-1C_tilda', 'h_t-1o_t'])\n",
    "    dot.edge('x_t', 'f_t')\n",
    "    dot.edge('x_t', 'i_t')\n",
    "    dot.edge('x_t', 'C_tilda')\n",
    "    dot.edge('x_t', 'o_t')\n",
    "    dot.edge('f_t', 'C_t', label=' * C_{t-1}')\n",
    "    dot.edge('i_t', 'C_t', label=' * C_tilda')\n",
    "    dot.edge('C_tilda', 'C_t')\n",
    "    dot.edge('C_t', 'h_t', label='tanh')\n",
    "    dot.edge('o_t', 'h_t', label=' *')\n",
    "    \n",
    "    return dot\n",
    "\n",
    "# Generate flowchart\n",
    "lstm_flowchart = create_lstm_flowchart()\n",
    "lstm_flowchart.render('lstm_flowchart', format='png', cleanup=False)\n"
   ]
  },
  {
   "cell_type": "code",
   "execution_count": 1,
   "metadata": {},
   "outputs": [
    {
     "name": "stdout",
     "output_type": "stream",
     "text": [
      "Collecting graphviz\n",
      "  Using cached graphviz-0.20.3-py3-none-any.whl.metadata (12 kB)\n",
      "Using cached graphviz-0.20.3-py3-none-any.whl (47 kB)\n",
      "Installing collected packages: graphviz\n",
      "Successfully installed graphviz-0.20.3\n"
     ]
    }
   ],
   "source": [
    "!pip install graphviz"
   ]
  },
  {
   "cell_type": "code",
   "execution_count": null,
   "metadata": {},
   "outputs": [],
   "source": []
  }
 ],
 "metadata": {
  "kernelspec": {
   "display_name": "base",
   "language": "python",
   "name": "python3"
  },
  "language_info": {
   "codemirror_mode": {
    "name": "ipython",
    "version": 3
   },
   "file_extension": ".py",
   "mimetype": "text/x-python",
   "name": "python",
   "nbconvert_exporter": "python",
   "pygments_lexer": "ipython3",
   "version": "3.11.7"
  }
 },
 "nbformat": 4,
 "nbformat_minor": 2
}
