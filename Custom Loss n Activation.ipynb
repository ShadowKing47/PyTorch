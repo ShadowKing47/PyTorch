{
 "cells": [
  {
   "cell_type": "code",
   "execution_count": 28,
   "metadata": {},
   "outputs": [],
   "source": [
    "import torch\n",
    "import torch.nn as nn"
   ]
  },
  {
   "cell_type": "code",
   "execution_count": 29,
   "metadata": {},
   "outputs": [],
   "source": [
    "class CAF(nn.Module):\n",
    "    def __init__(self):\n",
    "        super(CAF,self).__init__()\n",
    "\n",
    "    def forward(self,x):\n",
    "        return torch.where(x > 0,x**2, torch.tensor(0.0))"
   ]
  },
  {
   "cell_type": "code",
   "execution_count": null,
   "metadata": {},
   "outputs": [],
   "source": [
    "class CLF(nn.Module):\n",
    "    def __init__(self):\n",
    "        super(CLF,self).__init__()\n",
    "\n",
    "    def forward(self,y_pred,y_true):\n",
    "        loss = torch.mean(torch.abs(torch.pow(y_pred,1/3) - torch.pow(y_true,1/3)))\n",
    "        #loss = torch.mean(torch.abs(torch.pow(y_pred, 1/3) - torch.pow(y_true, 1/3)))\n",
    "        return loss    "
   ]
  },
  {
   "cell_type": "code",
   "execution_count": 35,
   "metadata": {},
   "outputs": [],
   "source": [
    "class MyModel(nn.Module):\n",
    "    def __init__(self):\n",
    "        super(MyModel,self).__init__()\n",
    "        self.fc1 = nn.Linear(10,50)\n",
    "        self.AF = CAF()\n",
    "        self.fc2 = nn.Linear(50,1)\n",
    "\n",
    "    def forward(self,x):    \n",
    "        x = self.AF(self.fc1(x))\n",
    "        x = self.AF(self.fc2(x))\n",
    "        return x"
   ]
  },
  {
   "cell_type": "code",
   "execution_count": 36,
   "metadata": {},
   "outputs": [],
   "source": [
    "input = torch.randn(5,10)\n",
    "Model = MyModel()\n",
    "criterion = CLF()\n",
    "optimizer = torch.optim.Adam(Model.parameters(),lr = 0.01)"
   ]
  },
  {
   "cell_type": "code",
   "execution_count": 38,
   "metadata": {},
   "outputs": [
    {
     "name": "stdout",
     "output_type": "stream",
     "text": [
      "Epoch1, loss nan\n",
      "Epoch2, loss nan\n",
      "Epoch3, loss nan\n",
      "Epoch4, loss nan\n",
      "Epoch5, loss nan\n"
     ]
    }
   ],
   "source": [
    "epochs = 5\n",
    "for epoch in range(epochs):\n",
    "    optimizer.zero_grad()\n",
    "    output = Model(input)\n",
    "    y_true = torch.randn(5,1)\n",
    "    loss = criterion(output, y_true)\n",
    "    loss.backward()\n",
    "    optimizer.step()\n",
    "    print(f'Epoch{epoch + 1}, loss {loss.item()}')\n"
   ]
  },
  {
   "cell_type": "code",
   "execution_count": null,
   "metadata": {},
   "outputs": [],
   "source": []
  }
 ],
 "metadata": {
  "kernelspec": {
   "display_name": "base",
   "language": "python",
   "name": "python3"
  },
  "language_info": {
   "codemirror_mode": {
    "name": "ipython",
    "version": 3
   },
   "file_extension": ".py",
   "mimetype": "text/x-python",
   "name": "python",
   "nbconvert_exporter": "python",
   "pygments_lexer": "ipython3",
   "version": "3.11.7"
  }
 },
 "nbformat": 4,
 "nbformat_minor": 2
}
